{
 "cells": [
  {
   "metadata": {},
   "cell_type": "code",
   "source": [
    "import requests\n",
    "import json\n"
   ],
   "id": "7bf176cd7804adc",
   "outputs": [],
   "execution_count": null
  },
  {
   "metadata": {
    "ExecuteTime": {
     "end_time": "2025-10-04T10:00:56.170643Z",
     "start_time": "2025-10-04T10:00:56.141333Z"
    }
   },
   "cell_type": "code",
   "source": [
    "\n",
    "url = \"https://api.fireworks.ai/inference/v1/chat/completions\"\n",
    "payload = {\n",
    "  \"model\": \"accounts/fireworks/models/deepseek-v3p1-terminus\",\n",
    "  \"max_tokens\": 5000,\n",
    "  \"top_p\": 1,\n",
    "  \"top_k\": 40,\n",
    "  \"presence_penalty\": 0,\n",
    "  \"frequency_penalty\": 0,\n",
    "  \"temperature\": 0.6,\n",
    "  \"messages\": [\n",
    "    {\n",
    "      \"role\": \"user\",\n",
    "      \"content\": \"Hello, how are you?\"\n",
    "    }\n",
    "  ]\n",
    "}\n",
    "headers = {\n",
    "  \"Accept\": \"application/json\",\n",
    "  \"Content-Type\": \"application/json\",\n",
    "  \"Authorization\": \"fw_3ZaSxLXvHEKTJeMnEgJXzJSZ\"\n",
    "}"
   ],
   "id": "feedc45df9131801",
   "outputs": [],
   "execution_count": 34
  },
  {
   "metadata": {
    "ExecuteTime": {
     "end_time": "2025-10-04T10:01:05.018462Z",
     "start_time": "2025-10-04T10:01:03.335164Z"
    }
   },
   "cell_type": "code",
   "source": "response = requests.request(\"POST\", url, headers=headers, data=json.dumps(payload))",
   "id": "3f6e89756711a3f8",
   "outputs": [],
   "execution_count": 35
  },
  {
   "metadata": {
    "ExecuteTime": {
     "end_time": "2025-10-04T10:14:51.500419Z",
     "start_time": "2025-10-04T10:14:51.491672Z"
    }
   },
   "cell_type": "code",
   "source": [
    "print(response.status_code)\n",
    "print(response.json())\n"
   ],
   "id": "27b5cf440af90599",
   "outputs": [
    {
     "name": "stdout",
     "output_type": "stream",
     "text": [
      "200\n",
      "{'id': '36de38e1-2ce4-4374-a687-0a226ab74148', 'object': 'chat.completion', 'created': 1759572063, 'model': 'accounts/fireworks/models/deepseek-v3p1-terminus', 'choices': [{'index': 0, 'message': {'role': 'assistant', 'content': \"Hello! I'm doing well, thank you for asking. I'm here and ready to help you with anything you need. How are you doing today?\"}, 'finish_reason': 'stop'}], 'usage': {'prompt_tokens': 10, 'total_tokens': 42, 'completion_tokens': 32}}\n"
     ]
    }
   ],
   "execution_count": 37
  },
  {
   "metadata": {
    "ExecuteTime": {
     "end_time": "2025-10-04T10:17:47.957190Z",
     "start_time": "2025-10-04T10:17:47.935295Z"
    }
   },
   "cell_type": "code",
   "source": "response.json()['choices'][0]['message']['content']",
   "id": "a535a9dd2848399f",
   "outputs": [
    {
     "data": {
      "text/plain": [
       "\"Hello! I'm doing well, thank you for asking. I'm here and ready to help you with anything you need. How are you doing today?\""
      ]
     },
     "execution_count": 43,
     "metadata": {},
     "output_type": "execute_result"
    }
   ],
   "execution_count": 43
  }
 ],
 "metadata": {
  "kernelspec": {
   "display_name": "Python 3",
   "language": "python",
   "name": "python3"
  },
  "language_info": {
   "codemirror_mode": {
    "name": "ipython",
    "version": 2
   },
   "file_extension": ".py",
   "mimetype": "text/x-python",
   "name": "python",
   "nbconvert_exporter": "python",
   "pygments_lexer": "ipython2",
   "version": "2.7.6"
  }
 },
 "nbformat": 4,
 "nbformat_minor": 5
}
