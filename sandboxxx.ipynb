{
 "cells": [
  {
   "metadata": {
    "ExecuteTime": {
     "end_time": "2025-10-03T22:22:52.797098Z",
     "start_time": "2025-10-03T22:22:52.754265Z"
    }
   },
   "cell_type": "code",
   "source": "docum = {'name': 'Samuel',  'age': 9, 'country': 'Ghana'}",
   "id": "cb981598b673d355",
   "outputs": [],
   "execution_count": 26
  },
  {
   "metadata": {
    "ExecuteTime": {
     "end_time": "2025-10-03T22:23:54.424660Z",
     "start_time": "2025-10-03T22:23:54.388705Z"
    }
   },
   "cell_type": "code",
   "source": [
    "for k, val in docum.items():\n",
    "    print(k, val)"
   ],
   "id": "71d81932cc067ca9",
   "outputs": [
    {
     "name": "stdout",
     "output_type": "stream",
     "text": [
      "name Samuel\n",
      "age 9\n",
      "country Ghana\n"
     ]
    }
   ],
   "execution_count": 28
  }
 ],
 "metadata": {
  "kernelspec": {
   "display_name": "Python 3",
   "language": "python",
   "name": "python3"
  },
  "language_info": {
   "codemirror_mode": {
    "name": "ipython",
    "version": 2
   },
   "file_extension": ".py",
   "mimetype": "text/x-python",
   "name": "python",
   "nbconvert_exporter": "python",
   "pygments_lexer": "ipython2",
   "version": "2.7.6"
  }
 },
 "nbformat": 4,
 "nbformat_minor": 5
}
